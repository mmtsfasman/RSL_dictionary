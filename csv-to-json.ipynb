{
 "cells": [
  {
   "cell_type": "code",
   "execution_count": null,
   "metadata": {
    "collapsed": true
   },
   "outputs": [],
   "source": [
    "import csv"
   ]
  },
  {
   "cell_type": "code",
   "execution_count": null,
   "metadata": {
    "collapsed": true
   },
   "outputs": [],
   "source": [
    "def csv_to_json(filename):\n",
    "    '''receives csv file returns json '''\n",
    "    \n",
    "    with open('data.csv', encoding='utf-8') as csvfile:\n",
    "        data = csv.DictReader(csvfile)\n",
    "    for row in csv:\n",
    "        \n",
    "        \n",
    "    return json    \n",
    "        \n",
    "def add_json(field_name, data_format):\n",
    "    json[filend_name] = data_format\n",
    "    "
   ]
  }
 ],
 "metadata": {
  "kernelspec": {
   "display_name": "Python 3",
   "language": "python",
   "name": "python3"
  },
  "language_info": {
   "codemirror_mode": {
    "name": "ipython",
    "version": 3
   },
   "file_extension": ".py",
   "mimetype": "text/x-python",
   "name": "python",
   "nbconvert_exporter": "python",
   "pygments_lexer": "ipython3",
   "version": "3.6.2"
  }
 },
 "nbformat": 4,
 "nbformat_minor": 2
}
